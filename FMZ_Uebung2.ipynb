{
  "nbformat": 4,
  "nbformat_minor": 0,
  "metadata": {
    "colab": {
      "provenance": []
    },
    "kernelspec": {
      "name": "ir",
      "display_name": "R"
    },
    "language_info": {
      "name": "R"
    }
  },
  "cells": [
    {
      "cell_type": "markdown",
      "source": [
        "\n",
        "# FMZ Übung 2: **Beschreibende Statistik für uni- und bivariate Daten**\n",
        "\n",
        "---\n",
        "### Ziel der Übung  \n",
        "- Verschiedene Mittelwerte (arithmetisch, geometrisch, harmonisch, quadratisch, Median, Modus)  \n",
        "- Streuungsmaße (SD, MAD, IQR, min/max, Varianz)  \n",
        "- Schiefe und Wölbung  \n",
        "- Histogramme, Boxplots, QQ-Plots  \n",
        "- Analyse eines realen Datensatzes zur Fußgängerdynamik  \n",
        "\n",
        "---\n",
        "### Benötigte Pakete\n",
        "\n",
        "```{r, eval=FALSE}\n",
        " # install.packages(c(\"ggplot2\", \"dplyr\", \"e1071\"))\n",
        " library(ggplot2)\n",
        " library(dplyr)\n",
        " library(e1071) # skewness, kurtosis\n",
        "```\n",
        "\n",
        "---"
      ],
      "metadata": {
        "id": "LUUkq5CIonEx"
      }
    },
    {
      "cell_type": "code",
      "source": [],
      "metadata": {
        "id": "SUwz_A2amAkY"
      },
      "execution_count": null,
      "outputs": []
    },
    {
      "cell_type": "markdown",
      "source": [
        "## 1. Mittelwerte und Streuungsmaße\n",
        "\n",
        "\n",
        "Verwenden Sie `mtcars$mpg`:\n",
        "\n",
        "```{r, eval=FALSE}\n",
        " data(mtcars)\n",
        " x <- mtcars$mpg\n",
        "```\n",
        "\n",
        "---\n",
        "### Aufgaben\n",
        "\n",
        "---\n",
        "1. Mittelwerte\n",
        "\n",
        "    ```{r, eval=FALSE}\n",
        "    mean(x)\n",
        "    median(x)\n",
        "    prod(x^(1/length(x)))  # Geometrisches Mittel\n",
        "    1/mean(1/x)            # harmonisches Mittel\n",
        "    sqrt(mean(x^2))        # quadratisches Mittel\n",
        "    ```\n",
        "\n",
        "   Histogramm mit allen Mittelwerten markiert\n",
        "\n",
        "    ```{r, eval=FALSE}\n",
        "    hist(x, breaks=10, main=\"Histogramm von mpg mit Mittelwerten\", col=\"lightblue\")\n",
        "    abline(v=mean(x), col=\"red\", lwd=2, lty=2)\n",
        "    abline(v=median(x), col=\"green\", lwd=2, lty=2)\n",
        "    abline(v=prod(x^(1/length(x))), col=\"purple\", lwd=2, lty=2)\n",
        "    abline(v=1/mean(1/x), col=\"orange\", lwd=2, lty=2)\n",
        "    abline(v=sqrt(mean(x^2)), col=\"brown\", lwd=2, lty=2)\n",
        "    legend(\"topright\", c(\"Mean\",\"Median\",\"Geometric\",\"Harmonic\",\"Quadratic\"),\n",
        "           col=c(\"red\",\"green\",\"purple\",\"orange\",\"brown\"), lty=2, lwd=2)\n",
        "    ```\n",
        "\n",
        "---\n",
        "2. Streuungsmaße\n",
        "\n",
        "    ```{r, eval=FALSE}\n",
        "    sd(x)\n",
        "    mad(x)\n",
        "    IQR(x)\n",
        "    range(x)\n",
        "    var(x)\n",
        "    ```\n",
        "\n",
        "---\n",
        "3. Schiefe und Wölbung\n",
        "\n",
        "    ```{r, eval=FALSE}\n",
        "    skewness(x)\n",
        "    kurtosis(x)\n",
        "    ```\n",
        "---\n"
      ],
      "metadata": {
        "id": "EqB0mWqJmBNh"
      }
    },
    {
      "cell_type": "code",
      "source": [],
      "metadata": {
        "id": "13gB86vYniif"
      },
      "execution_count": null,
      "outputs": []
    },
    {
      "cell_type": "markdown",
      "source": [
        "## 2. QQ-Plot und Streuungsdiagramme\n",
        "\n",
        "---\n",
        "### Aufgaben\n",
        "\n",
        "---\n",
        "1. QQ-Plot\n",
        "\n",
        "   ```{r, eval=FALSE}\n",
        "   qqnorm(x)\n",
        "   qqline(x, col=\"red\")\n",
        "   ```\n",
        "\n",
        "---\n",
        "2. Scatterplot\n",
        "\n",
        "   ```{r, eval=FALSE}\n",
        "   plot(mtcars$hp, mtcars$mpg, main=\"Leistung vs Verbrauch\", xlab=\"PS\", ylab=\"mpg\", pch=19, col=\"steelblue\")\n",
        "   abline(lm(mpg ~ hp, data=mtcars), col=\"red\", lwd=2)\n",
        "   ```\n",
        "\n",
        "---\n",
        "3. Bivariate Analyse: Kovarianz & Korrelation\n",
        "\n",
        "   ```{r, eval=FALSE}\n",
        "   cov(mtcars$hp, mtcars$mpg)\n",
        "   cor(mtcars$hp, mtcars$mpg)\n",
        "   ```\n",
        "---\n"
      ],
      "metadata": {
        "id": "zqJmhl9Rs8WZ"
      }
    },
    {
      "cell_type": "code",
      "source": [],
      "metadata": {
        "id": "Ei5vS0GitlrS"
      },
      "execution_count": null,
      "outputs": []
    },
    {
      "cell_type": "markdown",
      "source": [
        "## 3. Empirische Wahrscheinlichkeitsmaße und Boxplots\n",
        "\n",
        "---\n",
        "### Aufgaben\n",
        "\n",
        "---\n",
        "1. Histogramm + Kerndichte\n",
        "\n",
        "    ```{r, eval=FALSE}\n",
        "    hist(x, breaks=10, probability=T, col=\"lightgreen\", main=\"Histogramm von mpg\", xlab=\"mpg\")\n",
        "    lines(density(x), col=\"darkred\", lwd=2)\n",
        "    ```\n",
        "\n",
        "---\n",
        "2. Empirische Verteilungsfunktion (EDF)\n",
        "   \n",
        "    ```{r, eval=FALSE}\n",
        "    plot(ecdf(x), verticals=TRUE, do.points=FALSE, main=\"Empirische Verteilungsfunktion von mpg\")\n",
        "    ```\n",
        "\n",
        "---\n",
        "3. Boxplot nach Zylinderzahl\n",
        "   \n",
        "    ```{r, eval=FALSE}\n",
        "    boxplot(mpg ~ cyl, data=mtcars, col=c(\"pink\",\"lightblue\",\"lightgreen\"), main=\"mpg nach Zylinderzahl\")\n",
        "    ```\n",
        "---\n"
      ],
      "metadata": {
        "id": "Lr-LjvVJua89"
      }
    },
    {
      "cell_type": "code",
      "source": [],
      "metadata": {
        "id": "fTknsJjEu_v4"
      },
      "execution_count": null,
      "outputs": []
    },
    {
      "cell_type": "markdown",
      "source": [
        "## 4. Datensatz iris\n",
        "\n",
        "Analysieren Sie den Datensatz iris:\n",
        "   - Berechnen Sie Mittelwert, Median, Varianz, Schiefe, Wölbung für Sepal.ength.\n",
        "   - Erstellen Sie Boxplots nach Species.\n",
        "   - Erstellen Sie ein Scatterplot Sepal.Length vs Petal.Length mit Farbe nach Species.\n",
        "\n",
        "```{r, eval=FALSE}\n",
        " data(iris)\n",
        " summary(iris$Sepal.Length)\n",
        " boxplot(Sepal.Length ~ Species, data=iris, col=c(\"orange\",\"green\",\"blue\"))\n",
        " ggplot(iris, aes(x=Sepal.Length, y=Petal.Length, color=Species)) +\n",
        "     geom_point(size=3) +\n",
        "     theme_minimal() +\n",
        "     labs(title=\"Sepal vs Petal Länge nach Species\")\n",
        " ```\n"
      ],
      "metadata": {
        "id": "KO_JxxzuyK9B"
      }
    },
    {
      "cell_type": "code",
      "source": [],
      "metadata": {
        "id": "p-D1wxrcy0Hx"
      },
      "execution_count": null,
      "outputs": []
    },
    {
      "cell_type": "markdown",
      "source": [
        "## 5. Fußgängerdynamik\n",
        "\n",
        "\n",
        "### Datensatz\n",
        "\n",
        " ```{r, eval=FALSE}\n",
        " ped <- read.table(\"https://raw.githubusercontent.com/antoinetordeux/Datasets/refs/heads/main/ped_data.txt\", header=TRUE)\n",
        " head(ped)\n",
        " str(ped)\n",
        " ```\n",
        "\n",
        "### Aufgaben\n",
        "\n",
        "---\n",
        "1. Beschreiben Sie die Variablen `Speed` und `Spacing`:\n",
        "   - Mittelwerte (arithmetisch, geometrisch, harmonisch, quadratisch, Median, Modus)  \n",
        "   - SD, MAD, IQR, min/max  \n",
        "   - Schiefe & Wölbung\n",
        "\n",
        "---\n",
        "2. Visualisierung:\n",
        "   - Histogramm mit Mittelwerten\n",
        "   - Boxplot\n",
        "   - Dichteplot\n",
        "   - QQ-Plot\n",
        "\n",
        "---\n",
        "3. Bivariate Analyse:\n",
        "   - Streuungsdiagramm\n",
        "   - Kovarianz & Korrelation\n",
        "---\n"
      ],
      "metadata": {
        "id": "4l7ID0Yavu53"
      }
    },
    {
      "cell_type": "code",
      "source": [],
      "metadata": {
        "id": "HOuBos1yxr1h"
      },
      "execution_count": null,
      "outputs": []
    }
  ]
}